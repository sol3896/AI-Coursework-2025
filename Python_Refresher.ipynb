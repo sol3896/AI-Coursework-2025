{
  "nbformat": 4,
  "nbformat_minor": 0,
  "metadata": {
    "colab": {
      "provenance": [],
      "authorship_tag": "ABX9TyMLNANKfmdrzRRkG+ooL+5Q",
      "include_colab_link": true
    },
    "kernelspec": {
      "name": "python3",
      "display_name": "Python 3"
    },
    "language_info": {
      "name": "python"
    }
  },
  "cells": [
    {
      "cell_type": "markdown",
      "metadata": {
        "id": "view-in-github",
        "colab_type": "text"
      },
      "source": [
        "<a href=\"https://colab.research.google.com/github/sol3896/AI-Coursework-2025/blob/main/Python_Refresher.ipynb\" target=\"_parent\"><img src=\"https://colab.research.google.com/assets/colab-badge.svg\" alt=\"Open In Colab\"/></a>"
      ]
    },
    {
      "cell_type": "markdown",
      "source": [
        "**Program to convert number of days to seconds**"
      ],
      "metadata": {
        "id": "yhlIdmMnqxk6"
      }
    },
    {
      "cell_type": "code",
      "source": [
        "# Prompt the user for the number of days to seconds\n",
        "days = int(input(\"Enter the number of days: \"))\n",
        "# Calculate the total number of seconds\n",
        "# 1 day = 24 hours, 1 hour = 60 minutes, 1 minute = 60 seconds\n",
        "seconds = days * 24 * 60 * 60\n",
        "\n",
        "print(f\"There are {seconds} seconds in {days} days.\")"
      ],
      "metadata": {
        "colab": {
          "base_uri": "https://localhost:8080/"
        },
        "id": "5XBYRX9TrE6i",
        "outputId": "df95d72a-b4ca-4c78-f4dd-b39c4fdbbbd7"
      },
      "execution_count": 1,
      "outputs": [
        {
          "output_type": "stream",
          "name": "stdout",
          "text": [
            "Enter the number of days: 6\n",
            "There are 518400 seconds in 6 days.\n"
          ]
        }
      ]
    },
    {
      "cell_type": "markdown",
      "source": [
        "**Program to calculate volume of a sphere**"
      ],
      "metadata": {
        "id": "JxEwh_FnsPqI"
      }
    },
    {
      "cell_type": "code",
      "source": [
        "# Import the math module to access mathematical functions\n",
        "import math\n",
        "# Prompt the user for the radius of the sphere\n",
        "radius = float(input(\"Enter the radius of the sphere: \"))\n",
        "\n",
        "#calculate the volume using the formula: (4/3) * π * r^3\n",
        "volume = (4/3) * math.pi * radius**3\n",
        "\n",
        "# Display the result\n",
        "print(f\"The volume of the sphere with radius {radius} is {volume}.\")"
      ],
      "metadata": {
        "colab": {
          "base_uri": "https://localhost:8080/"
        },
        "id": "iNKlx17QsYPb",
        "outputId": "68435c10-1928-45b3-c873-e9636f9d92a9"
      },
      "execution_count": 2,
      "outputs": [
        {
          "output_type": "stream",
          "name": "stdout",
          "text": [
            "Enter the radius of the sphere: 7\n",
            "The volume of the sphere with radius 7.0 is 1436.7550402417319.\n"
          ]
        }
      ]
    },
    {
      "cell_type": "markdown",
      "source": [
        "**Program to calculate area and perimeter of a square**"
      ],
      "metadata": {
        "id": "1miFYv2guD1u"
      }
    },
    {
      "cell_type": "code",
      "source": [
        "length = float(input(\"Enter the length of the square: \"))\n",
        "\n",
        "# Calculate the area of the square\n",
        "area = length ** 2\n",
        "\n",
        "# Calculate the perimeter of the square\n",
        "perimeter = 4 * length\n",
        "\n",
        "# Display the results\n",
        "print(f\"The area of the square is {area} and the perimiter is {perimeter}.\")"
      ],
      "metadata": {
        "colab": {
          "base_uri": "https://localhost:8080/"
        },
        "id": "5lk325n2ui7X",
        "outputId": "3a83cea1-f863-4677-f7fe-6f468f4e6660"
      },
      "execution_count": 3,
      "outputs": [
        {
          "output_type": "stream",
          "name": "stdout",
          "text": [
            "Enter the length of the square: 7\n",
            "The area of the square is 49.0 and the perimiter is 28.0.\n"
          ]
        }
      ]
    },
    {
      "cell_type": "markdown",
      "source": [
        "**Program to check if a character is uppercase or Lowercase**"
      ],
      "metadata": {
        "id": "jN1ISvBJvXXz"
      }
    },
    {
      "cell_type": "code",
      "source": [
        "def check_case(char):\n",
        "  if char.isupper():\n",
        "    return \"uppercase\"\n",
        "  elif char.islower():\n",
        "    return \"lowercase\"\n",
        "  else:\n",
        "    return \"neither uppercase nor lowercase\"\n",
        "# Prompt ther user for a character\n",
        "user_input = input(\"Enter a character: \")\n",
        "\n",
        "# Check the case of the character and print the result\n",
        "case_type = check_case(user_input)\n",
        "print(f\"The character '{user_input}' is {case_type}.\")"
      ],
      "metadata": {
        "colab": {
          "base_uri": "https://localhost:8080/"
        },
        "id": "V6wJfar7vi11",
        "outputId": "e171336b-1575-47c8-bfca-15d6879059ef"
      },
      "execution_count": 4,
      "outputs": [
        {
          "output_type": "stream",
          "name": "stdout",
          "text": [
            "Enter a character: hh\n",
            "The character 'hh' is lowercase.\n"
          ]
        }
      ]
    },
    {
      "cell_type": "markdown",
      "source": [
        "**Pseudocode to Python**"
      ],
      "metadata": {
        "id": "ogEVVQXcxY27"
      }
    },
    {
      "cell_type": "code",
      "source": [
        "# Initialize variables as per the pseudocode\n",
        "x = 0\n",
        "y = 20\n",
        "# Using a while loop to repeatedly subtract from y and add to x\n",
        "# The loop continues as long as y is not less than 6\n",
        "while y >= 6:\n",
        "  y = y - 4\n",
        "  x = x + (2 / y)\n",
        "\n",
        "# Display the value of X\n",
        "print(x)"
      ],
      "metadata": {
        "colab": {
          "base_uri": "https://localhost:8080/"
        },
        "id": "d93BRfRXxikG",
        "outputId": "00ae7986-9beb-4b57-f3f6-e751518d1b9e"
      },
      "execution_count": 5,
      "outputs": [
        {
          "output_type": "stream",
          "name": "stdout",
          "text": [
            "1.0416666666666665\n"
          ]
        }
      ]
    },
    {
      "cell_type": "markdown",
      "source": [
        "**Program to populate an array with user input and calculate the avaerage**"
      ],
      "metadata": {
        "id": "hy6QTE9Vz6Pz"
      }
    },
    {
      "cell_type": "code",
      "source": [
        "# Initialize an empty list to store the values\n",
        "values_list = []\n",
        "# Use a for loop to continually ask the user for 5 values\n",
        "# The range(5) will iterate 5 times (0...4)\n",
        "for i in range(5):\n",
        "  #Prompt the user for a number to convert to float and append it to the list\n",
        "  try:\n",
        "    user_input = float(input(f\"Enter a number for position {i + 1}: \"))\n",
        "    values_list.append(user_input)\n",
        "  except ValueError:\n",
        "    print(\"Invalid input. Please enter a valid number.\")\n",
        "    # Decrement i to re-prompt for the same value\n",
        "    i -= 1\n",
        "# calculate the sum of the values in the list\n",
        "total_sum = sum(values_list)\n",
        "# calculate the average by dividing the sum by the number of elments\n",
        "average = total_sum / len(values_list)\n",
        "# Display the average\n",
        "print(f\"the values enteres are: {values_list}\")\n",
        "print(f\"The average of the values is {average}.\")\n"
      ],
      "metadata": {
        "colab": {
          "base_uri": "https://localhost:8080/"
        },
        "id": "nfK-sf9K37HU",
        "outputId": "1c7c6848-ce81-4559-8b3b-4834efd5aa1c"
      },
      "execution_count": 6,
      "outputs": [
        {
          "output_type": "stream",
          "name": "stdout",
          "text": [
            "Enter a number for position 1: 2\n",
            "Enter a number for position 2: 2\n",
            "Enter a number for position 3: 3\n",
            "Enter a number for position 4: 6\n",
            "Enter a number for position 5: 7\n",
            "the values enteres are: [2.0, 2.0, 3.0, 6.0, 7.0]\n",
            "The average of the values is 4.0.\n"
          ]
        }
      ]
    },
    {
      "cell_type": "markdown",
      "source": [
        "![Codility Screenshot](https://drive.google.com/file/d/15UPvsLuUOHcCsoreOBdNWLtQkSssiE1W/view?usp=sharing)"
      ],
      "metadata": {
        "id": "-KBKgOeRP3mL"
      }
    }
  ]
}